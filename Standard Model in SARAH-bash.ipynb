{
 "cells": [
  {
   "cell_type": "markdown",
   "metadata": {},
   "source": [
    "# Standard Model with SARAH"
   ]
  },
  {
   "cell_type": "markdown",
   "metadata": {},
   "source": [
    "We need to have the compilers (c,c++,fortran) and Mathematica"
   ]
  },
  {
   "cell_type": "markdown",
   "metadata": {},
   "source": [
    "## Install `toolbox`"
   ]
  },
  {
   "cell_type": "markdown",
   "metadata": {},
   "source": [
    "Go through the following steps: `%%bash` are the commmands to be executed at console\n",
    "\n",
    "Get the updated link from https://sarah.hepforge.org/Toolbox.html. In this case: `toolbox-1.2.7.tar.gz`"
   ]
  },
  {
   "cell_type": "code",
   "execution_count": 1,
   "metadata": {
    "collapsed": false
   },
   "outputs": [
    {
     "name": "stdout",
     "output_type": "stream",
     "text": []
    }
   ],
   "source": [
    "version='1.2.7'\n",
    "DEBUG=True"
   ]
  },
  {
   "cell_type": "code",
   "execution_count": 4,
   "metadata": {
    "collapsed": false
   },
   "outputs": [
    {
     "name": "stdout",
     "output_type": "stream",
     "text": []
    }
   ],
   "source": [
    "wget -c http://www.hepforge.org/archive/sarah/toolbox-$version.tar.gz > /tmp/${USER}srout 2> /tmp/${USER}srout2"
   ]
  },
  {
   "cell_type": "code",
   "execution_count": 2,
   "metadata": {
    "collapsed": false
   },
   "outputs": [
    {
     "name": "stdout",
     "output_type": "stream",
     "text": [
      "/home/fissub/StandardModel/toolbox-1.2.7\r\n"
     ]
    }
   ],
   "source": [
    "tar -zxf toolbox-$version.tar.gz\n",
    "cd toolbox-$version\n",
    "pwd"
   ]
  },
  {
   "cell_type": "code",
   "execution_count": 3,
   "metadata": {
    "collapsed": false
   },
   "outputs": [
    {
     "name": "stdout",
     "output_type": "stream",
     "text": [
      "/home/fissub/StandardModel/toolbox-1.2.7/toolbox\r\n"
     ]
    }
   ],
   "source": [
    "mkdir toolbox\n",
    "cd toolbox/\n",
    "pwd"
   ]
  },
  {
   "cell_type": "code",
   "execution_count": 15,
   "metadata": {
    "collapsed": false
   },
   "outputs": [
    {
     "name": "stdout",
     "output_type": "stream",
     "text": []
    }
   ],
   "source": [
    "../configure --disable-whizard --disable-higgsbounds --disable-higgssignals >   /tmp/${USER}srout 2> /tmp/${USER}srout22"
   ]
  },
  {
   "cell_type": "code",
   "execution_count": 16,
   "metadata": {
    "collapsed": false
   },
   "outputs": [
    {
     "name": "stdout",
     "output_type": "stream",
     "text": []
    }
   ],
   "source": [
    "cat /tmp/${USER}srout | grep -i error\n",
    "cat /tmp/${USER}srout2 | grep -i error"
   ]
  },
  {
   "cell_type": "code",
   "execution_count": 17,
   "metadata": {
    "collapsed": false
   },
   "outputs": [
    {
     "name": "stdout",
     "output_type": "stream",
     "text": []
    }
   ],
   "source": [
    "make  > /tmp/${USER}srout 2> /tmp/${USER}srout2"
   ]
  },
  {
   "cell_type": "code",
   "execution_count": 18,
   "metadata": {
    "collapsed": false
   },
   "outputs": [
    {
     "name": "stdout",
     "output_type": "stream",
     "text": []
    }
   ],
   "source": [
    "cat /tmp/${USER}srout | grep -i error\n",
    "cat /tmp/${USER}srout2 | grep -i error"
   ]
  },
  {
   "cell_type": "code",
   "execution_count": 4,
   "metadata": {
    "collapsed": false
   },
   "outputs": [
    {
     "name": "stdout",
     "output_type": "stream",
     "text": [
      "/home/fissub/StandardModel/toolbox-1.2.7/toolbox/SARAH/Models\r\n"
     ]
    }
   ],
   "source": [
    "cd SARAH/Models/\n",
    "pwd"
   ]
  },
  {
   "cell_type": "code",
   "execution_count": 5,
   "metadata": {
    "collapsed": false
   },
   "outputs": [
    {
     "name": "stdout",
     "output_type": "stream",
     "text": [
      "BLRinvSeesaw   inverse-Seesaw        near-MSSM     secluded-MSSM  THDM\r\n",
      "B-L-SM         inverse-Seesaw-NMSSM  NHSSM         Seesaw1        THDM-Flipped\r\n",
      "B-L-SM-IS      LinSeesaw             NMSSM         Seesaw2        THDM-II\r\n",
      "B-L-SSM        MDGSSM                Omega         Seesaw3        THDM-III\r\n",
      "B-L-SSM-IS     MRSSM                 Omega_Short   SM             THDM-LS\r\n",
      "BxL-SSM        MSSM                  parameters.m  SM-8C          TMSSM\r\n",
      "CCB-MSSM       MSSM6C                particles.m   SMSSM          TNMSSM\r\n",
      "DiracGauginos  MSSM-RpV              QEW12         SPheno.m       TSM\r\n",
      "DiracNMSSM     munuSSM               QEWmld2L3     SSDM           UMSSM\r\n",
      "Inert          N-B-L-SSM             SDDM          SSM\r\n"
     ]
    }
   ],
   "source": [
    "ls"
   ]
  },
  {
   "cell_type": "code",
   "execution_count": 8,
   "metadata": {
    "collapsed": false
   },
   "outputs": [
    {
     "name": "stdout",
     "output_type": "stream",
     "text": []
    }
   ],
   "source": [
    "cd .."
   ]
  },
  {
   "cell_type": "code",
   "execution_count": 9,
   "metadata": {
    "collapsed": false
   },
   "outputs": [
    {
     "name": "stdout",
     "output_type": "stream",
     "text": []
    }
   ],
   "source": [
    "cd SM"
   ]
  },
  {
   "cell_type": "code",
   "execution_count": 10,
   "metadata": {
    "collapsed": false
   },
   "outputs": [
    {
     "name": "stdout",
     "output_type": "stream",
     "text": [
      "CKM  parameters.m  particles.m  SM.m  SPheno.m  SPheno.m~\r\n"
     ]
    }
   ],
   "source": [
    "ls"
   ]
  },
  {
   "cell_type": "markdown",
   "metadata": {},
   "source": [
    "We are now to check the several parts of `SM.m` file. First the headings"
   ]
  },
  {
   "cell_type": "code",
   "execution_count": 7,
   "metadata": {
    "collapsed": false
   },
   "outputs": [
    {
     "name": "stdout",
     "output_type": "stream",
     "text": [
      "Off[General::spell]\r\n",
      "\r\n",
      "Model`Name = \"SM\";\r\n",
      "Model`NameLaTeX =\"Standard Model\";\r\n",
      "Model`Authors = \"F.Staub\";\r\n",
      "Model`Date = \"2014-11-06\";\r\n"
     ]
    }
   ],
   "source": [
    "cat SM.m  | grep -B100 'Model`Date'"
   ]
  },
  {
   "cell_type": "code",
   "execution_count": 8,
   "metadata": {
    "collapsed": false
   },
   "outputs": [
    {
     "name": "stdout",
     "output_type": "stream",
     "text": [
      "Gauge[[1]]={B,   U[1], hypercharge, g1,False};\r\n",
      "Gauge[[2]]={WB, SU[2], left,        g2,True};\r\n",
      "Gauge[[3]]={G,  SU[3], color,       g3,False};\r\n"
     ]
    }
   ],
   "source": [
    "cat SM.m  | grep -A100 'Gauge Groups' | grep 'Gauge\\['"
   ]
  },
  {
   "cell_type": "code",
   "execution_count": 9,
   "metadata": {
    "collapsed": false
   },
   "outputs": [
    {
     "name": "stdout",
     "output_type": "stream",
     "text": [
      "Off[General::spell]\r\n",
      "\r\n",
      "Model`Name = \"SM\";\r\n",
      "Model`NameLaTeX =\"Standard Model\";\r\n",
      "Model`Authors = \"F.Staub\";\r\n",
      "Model`Date = \"2014-11-06\";\r\n",
      "\r\n",
      "(* 2013-01-24: changed normalization of lambda term to convention of hep-ph/0207271 *)\r\n",
      "(* 2013-06-24: using new name conventions (without inital \"S\" and \"F\" for scalar and matter fields) *)\r\n",
      "(* 2013-09-01: changing to new conventions for FermionFields/MatterFields *)\r\n",
      "(* 2014-11-06: Changed sign in Lagrangian to fit standard conventions *)\r\n",
      "\r\n",
      "\r\n",
      "\r\n",
      "(*-------------------------------------------*)\r\n",
      "(*   Particle Content*)\r\n",
      "(*-------------------------------------------*)\r\n",
      "\r\n",
      "(* Gauge Groups *)\r\n",
      "\r\n",
      "Gauge[[1]]={B,   U[1], hypercharge, g1,False};\r\n",
      "Gauge[[2]]={WB, SU[2], left,        g2,True};\r\n",
      "Gauge[[3]]={G,  SU[3], color,       g3,False};\r\n",
      "\r\n",
      "\r\n",
      "(* Matter Fields *)\r\n",
      "\r\n",
      "FermionFields[[1]] = {q, 3, {uL, dL},     1/6, 2,  3};  \r\n",
      "FermionFields[[2]] = {l, 3, {vL, eL},    -1/2, 2,  1};\r\n",
      "FermionFields[[3]] = {d, 3, conj[dR],     1/3, 1, -3};\r\n",
      "FermionFields[[4]] = {u, 3, conj[uR],    -2/3, 1, -3};\r\n",
      "FermionFields[[5]] = {e, 3, conj[eR],       1, 1,  1};\r\n",
      "\r\n",
      "ScalarFields[[1]] =  {H, 1, {Hp, H0},     1/2, 2,  1};\r\n",
      "\r\n",
      "\r\n",
      "        \r\n",
      "(*----------------------------------------------*)\r\n",
      "(*   DEFINITION                                 *)\r\n",
      "(*----------------------------------------------*)\r\n",
      "\r\n",
      "NameOfStates={GaugeES, EWSB};\r\n",
      "\r\n",
      "(* ----- Before EWSB ----- *)\r\n",
      "\r\n",
      "DEFINITION[GaugeES][LagrangianInput]= {\r\n",
      "\t{LagHC, {AddHC->True}},\r\n",
      "\t{LagNoHC,{AddHC->False}}\r\n",
      "};\r\n",
      "\r\n",
      "\r\n",
      "LagNoHC = mu2 conj[H].H - 1/2 \\[Lambda] conj[H].H.conj[H].H;\r\n",
      "LagHC =  -(Yd conj[H].d.q + Ye conj[H].e.l + Yu H.u.q);\r\n",
      "\r\n",
      "\r\n",
      "\r\n",
      "\t\t\t  \t\t  \r\n",
      "\r\n",
      "(* Gauge Sector *)\r\n",
      "\r\n",
      "DEFINITION[EWSB][GaugeSector] =\r\n",
      "{ \r\n",
      "  {{VB,VWB[3]},{VP,VZ},ZZ},\r\n",
      "  {{VWB[1],VWB[2]},{VWp,conj[VWp]},ZW}\r\n",
      "};     \r\n",
      "        \r\n",
      "        \r\n",
      "          \t\r\n",
      "\r\n",
      "(* ----- VEVs ---- *)\r\n",
      "\r\n",
      "DEFINITION[EWSB][VEVs]= \r\n",
      "{    {H0, {v, 1/Sqrt[2]}, {Ah, \\[ImaginaryI]/Sqrt[2]},{hh, 1/Sqrt[2]}}     };\r\n",
      " \r\n",
      "\r\n",
      "DEFINITION[EWSB][MatterSector]=   \r\n",
      "    {{{{dL}, {conj[dR]}}, {{DL,Vd}, {DR,Ud}}},\r\n",
      "     {{{uL}, {conj[uR]}}, {{UL,Vu}, {UR,Uu}}},\r\n",
      "     {{{eL}, {conj[eR]}}, {{EL,Ve}, {ER,Ue}}}};  \r\n",
      "\r\n",
      "\r\n",
      "(*------------------------------------------------------*)\r\n",
      "(* Dirac-Spinors *)\r\n",
      "(*------------------------------------------------------*)\r\n",
      "\r\n",
      "DEFINITION[EWSB][DiracSpinors]={\r\n",
      " Fd ->{  DL, conj[DR]},\r\n",
      " Fe ->{  EL, conj[ER]},\r\n",
      " Fu ->{  UL, conj[UR]},\r\n",
      " Fv ->{  vL, 0}};\r\n",
      "\r\n",
      "DEFINITION[EWSB][GaugeES]={\r\n",
      " Fd1 ->{  FdL, 0},\r\n",
      " Fd2 ->{  0, FdR},\r\n",
      " Fu1 ->{  Fu1, 0},\r\n",
      " Fu2 ->{  0, Fu2},\r\n",
      " Fe1 ->{  Fe1, 0},\r\n",
      " Fe2 ->{  0, Fe2}};\r\n",
      "\r\n",
      "\r\n",
      "\r\n"
     ]
    }
   ],
   "source": [
    "cat SM.m"
   ]
  },
  {
   "cell_type": "markdown",
   "metadata": {},
   "source": [
    "Add 3-body decay for the Higgs"
   ]
  },
  {
   "cell_type": "code",
   "execution_count": 10,
   "metadata": {
    "collapsed": false
   },
   "outputs": [
    {
     "name": "stdout",
     "output_type": "stream",
     "text": []
    }
   ],
   "source": [
    "cat <<EOF > SPheno.m\n",
    "OnlyLowEnergySPheno = True;\n",
    "\n",
    "MINPAR={{1,LambdaIN}};\n",
    "\n",
    "\n",
    "ParametersToSolveTadpoles = {mu2};\n",
    "\n",
    "BoundaryLowScaleInput={\n",
    "(* {v,Sqrt[4 mz2/(g1^2+g2^2)]}, *)\n",
    " {\\[Lambda],LambdaIN}\n",
    "};\n",
    "\n",
    "\n",
    "\n",
    "ListDecayParticles = {Fu,Fe,Fd,hh,VZ,VWp};\n",
    "ListDecayParticles3B = {{Fu,\"Fu.f90\"},{Fe,\"Fe.f90\"},{Fd,\"Fd.f90\"},{hh,\"hh.f90\"}};\n",
    "EOF"
   ]
  },
  {
   "cell_type": "code",
   "execution_count": 11,
   "metadata": {
    "collapsed": false
   },
   "outputs": [
    {
     "name": "stdout",
     "output_type": "stream",
     "text": [
      "/home/fissub/StandardModel/toolbox-1.2.7/toolbox\r\n"
     ]
    }
   ],
   "source": [
    "cd ../../../\n",
    "pwd"
   ]
  },
  {
   "cell_type": "markdown",
   "metadata": {},
   "source": [
    "__WARNING:__ If not the first time, run from terminal...  (commented to avoid frozen the kernel)"
   ]
  },
  {
   "cell_type": "code",
   "execution_count": 15,
   "metadata": {
    "collapsed": false
   },
   "outputs": [
    {
     "name": "stdout",
     "output_type": "stream",
     "text": []
    }
   ],
   "source": [
    "#./butler SM"
   ]
  },
  {
   "cell_type": "markdown",
   "metadata": {},
   "source": [
    "\\begin{equation}\n",
    "\\sin\\theta\n",
    "\\end{equation}"
   ]
  },
  {
   "cell_type": "code",
   "execution_count": 7,
   "metadata": {
    "collapsed": false
   },
   "outputs": [
    {
     "name": "stdout",
     "output_type": "stream",
     "text": [
      "/home/fissub/StandardModel/toolbox-1.2.7/toolbox/SM\r\n"
     ]
    }
   ],
   "source": [
    "mkdir SM\n",
    "cd SM/\n",
    "pwd"
   ]
  },
  {
   "cell_type": "markdown",
   "metadata": {},
   "source": [
    "From `../SPHENO/SM/LesHouches.in.SM_low:`"
   ]
  },
  {
   "cell_type": "code",
   "execution_count": 8,
   "metadata": {
    "collapsed": false
   },
   "outputs": [
    {
     "name": "stdout",
     "output_type": "stream",
     "text": []
    }
   ],
   "source": [
    "cat <<EOF > LesHouches.in.SM_low\n",
    "Block MODSEL      #  \n",
    "1 0               #  1/0: High/low scale input \n",
    "2 1               # Boundary Condition  \n",
    "6 1               # Generation Mixing \n",
    "12 1000.          # Renormalization scale \n",
    "Block SMINPUTS    # Standard Model inputs \n",
    "2 1.166370E-05    # G_F,Fermi constant \n",
    "3 1.187000E-01    # alpha_s(MZ) SM MSbar \n",
    "4 9.118870E+01    # Z-boson pole mass \n",
    "5 4.180000E+00    # m_b(mb) SM MSbar \n",
    "6 1.735000E+02    # m_top(pole) \n",
    "7 1.776690E+00    # m_tau(pole) \n",
    "Block MINPAR      # Input parameters \n",
    "1   2.30000E-01    # LambdaIN\n",
    "Block SPhenoInput   # SPheno specific input \n",
    "  1 -1              # error level \n",
    "  2  0              # SPA conventions \n",
    " 11 1               # calculate branching ratios \n",
    " 13 1               # include 3-Body decays \n",
    " 12 1.000E-04       # write only branching ratios larger than this value \n",
    " 15 1.000E-30       # write only decay if width larger than this value \n",
    " 31 -1              # fixed GUT scale (-1: dynamical GUT scale) \n",
    " 32 0               # Strict unification \n",
    " 34 1.000E-04       # Precision of mass calculation \n",
    " 35 40              # Maximal number of iterations\n",
    " 37 1               # Set Yukawa scheme  \n",
    " 38 2               # 1- or 2-Loop RGEs \n",
    " 50 1               # Majorana phases: use only positive masses \n",
    " 51 0               # Write Output in CKM basis \n",
    " 52 0               # Write spectrum in case of tachyonic states \n",
    " 55 1               # Calculate one loop masses \n",
    " 57 1               # Calculate low energy constraints \n",
    " 65 1               # Solution tadpole equation \n",
    " 75 1               # Write WHIZARD files \n",
    " 76 1               # Write HiggsBounds file \n",
    " 86 0.              # Maximal width to be counted as invisible in Higgs decays; -1: only LSP \n",
    "510 0.              # Write tree level values for tadpole solutions \n",
    "515 0               # Write parameter values at GUT scale \n",
    "520 1.              # Write effective Higgs couplings (HiggsBounds blocks) \n",
    "525 1.              # Write loop contributions to diphoton decay of Higgs \n",
    "530 1.              # Write Blocks for Vevacious \n",
    "EOF"
   ]
  },
  {
   "cell_type": "code",
   "execution_count": 10,
   "metadata": {
    "collapsed": false
   },
   "outputs": [
    {
     "name": "stdout",
     "output_type": "stream",
     "text": [
      " Calculating branching ratios and decay widths\r\n",
      " Calculating low energy constraints\r\n",
      " Writing output files\r\n",
      " Finished!\r\n"
     ]
    }
   ],
   "source": [
    "../SPHENO/bin/SPhenoSM LesHouches.in.SM_low"
   ]
  },
  {
   "cell_type": "code",
   "execution_count": 11,
   "metadata": {
    "collapsed": false
   },
   "outputs": [
    {
     "name": "stdout",
     "output_type": "stream",
     "text": [
      "# SUSY Les Houches Accord 2 - SM Spectrum + Decays + Flavor Observables\r\n",
      "# SPheno module generated by SARAH\r\n",
      "# ----------------------------------------------------------------------\r\n",
      "# SPheno v3.3.3  \r\n",
      "#   W. Porod, Comput. Phys. Commun. 153 (2003) 275-315, hep-ph/0301101\r\n",
      "#   W. Porod, F.Staub, Comput.Phys.Commun.183 (2012) 2458-2469, arXiv:1104.1573\r\n",
      "# SARAH: 4.4.2   \r\n",
      "#   F. Staub, arXiv:0806.0538 (online manual)\r\n",
      "#   F. Staub, Comput. Phys. Commun. 181 (2010) 1077-1086, arXiv:0909.2863\r\n",
      "#   F. Staub, Comput. Phys. Commun. 182 (2011)  808-833, arXiv:1002.0840\r\n",
      "#   F. Staub, Comput. Phys. Commun. 184 (2013)  1792-1809, arXiv:1207.0906\r\n",
      "#   F. Staub, Comput. Phys. Commun. 185 (2014)  1773-1790, arXiv:1309.7223 \r\n",
      "# Including the calculation of flavor observables based on the FlavorKit \r\n",
      "#   W. Porod, F. Staub, A. Vicente, arXiv:1405.1434 \r\n",
      "#  \r\n",
      "# in case of problems send email to porod@physik.uni-wuerzburg.de \r\n",
      "# or to florian.staub@cern.ch \r\n",
      "# ----------------------------------------------------------------------\r\n",
      "# Created: 03.03.2015,  16:03\r\n",
      "Block SPINFO         # Program information\r\n",
      "     1   SPhenoSARAH      # spectrum calculator\r\n",
      "     2   v3.3.3      # version number of SPheno\r\n",
      "     9   4.4.2       # version number of SARAH\r\n",
      "Block MODSEL  # Input parameters\r\n",
      "     1  1   #  GUT scale input\r\n",
      "     2  1   #  Boundary conditions \r\n",
      "     6  1   #  switching on flavour violation\r\n",
      "Block MINPAR  # Input parameters\r\n",
      "    1    2.30000000E-01  # LambdaIN\r\n",
      "Block gaugeGUT Q= -1.00000000E+00  # (GUT scale)\r\n",
      "   1    0.00000000E+00  # g1(Q)^DRbar\r\n",
      "   2    0.00000000E+00  # g2(Q)^DRbar\r\n",
      "   3    0.00000000E+00  # g3(Q)^DRbar\r\n",
      "Block SMINPUTS  # SM parameters\r\n",
      "         2     1.16637000E-05  # G_mu [GeV^-2]\r\n",
      "         3     1.18700000E-01  # alpha_s(MZ)^MSbar\r\n",
      "         4     9.11887000E+01  # m_Z(pole)\r\n",
      "         5     4.18000000E+00  # m_b(m_b), MSbar\r\n",
      "         6     1.73500000E+02  # m_t(pole)\r\n",
      "         7     1.77669000E+00  # m_tau(pole)\r\n",
      "Block GAUGE Q=  1.00000000E+03  # (Renormalization Scale)\r\n",
      "   1    3.61543008E-01  # g1\r\n",
      "   2    6.71430691E-01  # g2\r\n",
      "   3    1.05673600E+00  # g3\r\n",
      "Block SM Q=  1.00000000E+03  # (Renormalization Scale)\r\n",
      "   2    2.30000000E-01  # Lam\r\n",
      "   1    6.37199963E+03  # Mu\r\n",
      "Block HMIX Q=  1.00000000E+03  # (Renormalization Scale)\r\n",
      "   3    2.35390510E+02  # v\r\n",
      "Block TREESM Q=  1.00000000E+03  # (Renormalization Scale)\r\n",
      "   1    6.37199963E+03  # Mu\r\n",
      "Block LOOPSM Q=  1.00000000E+03  # (Renormalization Scale)\r\n",
      "   1    0.00000000E+00  # Mu\r\n",
      "Block Yu Q=  1.00000000E+03  # (Renormalization Scale)\r\n",
      "  1  1     6.12321132E-06   # Real(Yu(1,1),dp)\r\n",
      "  1  2     1.41629581E-06   # Real(Yu(1,2),dp)\r\n",
      "  1  3     2.15257716E-08   # Real(Yu(1,3),dp)\r\n",
      "  2  1    -6.90144166E-04   # Real(Yu(2,1),dp)\r\n",
      "  2  2     2.98185087E-03   # Real(Yu(2,2),dp)\r\n",
      "  2  3     1.26159316E-04   # Real(Yu(2,3),dp)\r\n",
      "  3  1     5.14365138E-03   # Real(Yu(3,1),dp)\r\n",
      "  3  2    -3.53725625E-02   # Real(Yu(3,2),dp)\r\n",
      "  3  3     8.64189587E-01   # Real(Yu(3,3),dp)\r\n",
      "Block Yd Q=  1.00000000E+03  # (Renormalization Scale)\r\n",
      "  1  1     1.44824302E-05   # Real(Yd(1,1),dp)\r\n",
      "  1  2     0.00000000E+00   # Real(Yd(1,2),dp)\r\n",
      "  1  3     0.00000000E+00   # Real(Yd(1,3),dp)\r\n",
      "  2  1     0.00000000E+00   # Real(Yd(2,1),dp)\r\n",
      "  2  2     2.74666779E-04   # Real(Yd(2,2),dp)\r\n",
      "  2  3     0.00000000E+00   # Real(Yd(2,3),dp)\r\n",
      "  3  1     0.00000000E+00   # Real(Yd(3,1),dp)\r\n",
      "  3  2     0.00000000E+00   # Real(Yd(3,2),dp)\r\n",
      "  3  3     1.42327327E-02   # Real(Yd(3,3),dp)\r\n",
      "Block Ye Q=  1.00000000E+03  # (Renormalization Scale)\r\n",
      "  1  1     2.85335853E-06   # Real(Ye(1,1),dp)\r\n",
      "  1  2     0.00000000E+00   # Real(Ye(1,2),dp)\r\n",
      "  1  3     0.00000000E+00   # Real(Ye(1,3),dp)\r\n",
      "  2  1     0.00000000E+00   # Real(Ye(2,1),dp)\r\n",
      "  2  2     6.03080222E-04   # Real(Ye(2,2),dp)\r\n",
      "  2  3     0.00000000E+00   # Real(Ye(2,3),dp)\r\n",
      "  3  1     0.00000000E+00   # Real(Ye(3,1),dp)\r\n",
      "  3  2     0.00000000E+00   # Real(Ye(3,2),dp)\r\n",
      "  3  3     1.02523639E-02   # Real(Ye(3,3),dp)\r\n",
      "Block MASS  # Mass spectrum\r\n",
      "#   PDG code      mass          particle\r\n",
      "        25     1.34544961E+02  # hh\r\n",
      "        23     9.11887000E+01  # VZ\r\n",
      "        24     8.03497269E+01  # VWp\r\n",
      "         1     5.00000000E-03  # Fd_1\r\n",
      "         3     9.50000000E-02  # Fd_2\r\n",
      "         5     4.18000000E+00  # Fd_3\r\n",
      "         2     2.50000000E-03  # Fu_1\r\n",
      "         4     1.27000000E+00  # Fu_2\r\n",
      "         6     1.73500000E+02  # Fu_3\r\n",
      "        11     5.10998930E-04  # Fe_1\r\n",
      "        13     1.05658372E-01  # Fe_2\r\n",
      "        15     1.77669000E+00  # Fe_3\r\n",
      "Block UDLMIX Q=  1.00000000E+03  # ()\r\n",
      "  1  1     1.00000000E+00   # Real(ZDL(1,1),dp)\r\n",
      "  1  2     0.00000000E+00   # Real(ZDL(1,2),dp)\r\n",
      "  1  3     0.00000000E+00   # Real(ZDL(1,3),dp)\r\n",
      "  2  1     0.00000000E+00   # Real(ZDL(2,1),dp)\r\n",
      "  2  2     1.00000000E+00   # Real(ZDL(2,2),dp)\r\n",
      "  2  3     0.00000000E+00   # Real(ZDL(2,3),dp)\r\n",
      "  3  1     0.00000000E+00   # Real(ZDL(3,1),dp)\r\n",
      "  3  2     0.00000000E+00   # Real(ZDL(3,2),dp)\r\n",
      "  3  3     1.00000000E+00   # Real(ZDL(3,3),dp)\r\n",
      "Block UDRMIX Q=  1.00000000E+03  # ()\r\n",
      "  1  1     1.00000000E+00   # Real(ZDR(1,1),dp)\r\n",
      "  1  2     0.00000000E+00   # Real(ZDR(1,2),dp)\r\n",
      "  1  3     0.00000000E+00   # Real(ZDR(1,3),dp)\r\n",
      "  2  1     0.00000000E+00   # Real(ZDR(2,1),dp)\r\n",
      "  2  2     1.00000000E+00   # Real(ZDR(2,2),dp)\r\n",
      "  2  3     0.00000000E+00   # Real(ZDR(2,3),dp)\r\n",
      "  3  1     0.00000000E+00   # Real(ZDR(3,1),dp)\r\n",
      "  3  2     0.00000000E+00   # Real(ZDR(3,2),dp)\r\n",
      "  3  3     1.00000000E+00   # Real(ZDR(3,3),dp)\r\n",
      "Block UULMIX Q=  1.00000000E+03  # ()\r\n",
      "  1  1    -9.74272160E-01   # Real(ZUL(1,1),dp)\r\n",
      "  1  2    -2.25348678E-01   # Real(ZUL(1,2),dp)\r\n",
      "  1  3    -3.42499367E-03   # Real(ZUL(1,3),dp)\r\n",
      "  2  1     2.25296231E-01   # Real(ZUL(2,1),dp)\r\n",
      "  2  2    -9.73419462E-01   # Real(ZUL(2,2),dp)\r\n",
      "  2  3    -4.11844653E-02   # Real(ZUL(2,3),dp)\r\n",
      "  3  1    -5.94690932E-03   # Real(ZUL(3,1),dp)\r\n",
      "  3  2     4.08965161E-02   # Real(ZUL(3,2),dp)\r\n",
      "  3  3    -9.99145690E-01   # Real(ZUL(3,3),dp)\r\n",
      "Block UURMIX Q=  1.00000000E+03  # ()\r\n",
      "  1  1     1.00000000E+00   # Real(ZUR(1,1),dp)\r\n",
      "  1  2     3.25260652E-19   # Real(ZUR(1,2),dp)\r\n",
      "  1  3     0.00000000E+00   # Real(ZUR(1,3),dp)\r\n",
      "  2  1    -6.50521303E-19   # Real(ZUR(2,1),dp)\r\n",
      "  2  2     1.00000000E+00   # Real(ZUR(2,2),dp)\r\n",
      "  2  3    -0.00000000E+00   # Real(ZUR(2,3),dp)\r\n",
      "  3  1     0.00000000E+00   # Real(ZUR(3,1),dp)\r\n",
      "  3  2     0.00000000E+00   # Real(ZUR(3,2),dp)\r\n",
      "  3  3     1.00000000E+00   # Real(ZUR(3,3),dp)\r\n",
      "Block UELMIX Q=  1.00000000E+03  # ()\r\n",
      "  1  1     1.00000000E+00   # Real(ZEL(1,1),dp)\r\n",
      "  1  2     0.00000000E+00   # Real(ZEL(1,2),dp)\r\n",
      "  1  3     0.00000000E+00   # Real(ZEL(1,3),dp)\r\n",
      "  2  1     0.00000000E+00   # Real(ZEL(2,1),dp)\r\n",
      "  2  2     1.00000000E+00   # Real(ZEL(2,2),dp)\r\n",
      "  2  3     0.00000000E+00   # Real(ZEL(2,3),dp)\r\n",
      "  3  1     0.00000000E+00   # Real(ZEL(3,1),dp)\r\n",
      "  3  2     0.00000000E+00   # Real(ZEL(3,2),dp)\r\n",
      "  3  3     1.00000000E+00   # Real(ZEL(3,3),dp)\r\n",
      "Block UERMIX Q=  1.00000000E+03  # ()\r\n",
      "  1  1     1.00000000E+00   # Real(ZER(1,1),dp)\r\n",
      "  1  2     0.00000000E+00   # Real(ZER(1,2),dp)\r\n",
      "  1  3     0.00000000E+00   # Real(ZER(1,3),dp)\r\n",
      "  2  1     0.00000000E+00   # Real(ZER(2,1),dp)\r\n",
      "  2  2     1.00000000E+00   # Real(ZER(2,2),dp)\r\n",
      "  2  3     0.00000000E+00   # Real(ZER(2,3),dp)\r\n",
      "  3  1     0.00000000E+00   # Real(ZER(3,1),dp)\r\n",
      "  3  2     0.00000000E+00   # Real(ZER(3,2),dp)\r\n",
      "  3  3     1.00000000E+00   # Real(ZER(3,3),dp)\r\n",
      "Block SPheno # SPheno internal parameters \r\n",
      "         1    -1.00000000E+00  # ErrorLevel\r\n",
      "         2     0.00000000E+00  # SPA_conventions\r\n",
      "        11     1.00000000E+00  # Branching ratios\r\n",
      "        13     1.00000000E+00  # 3 Body decays\r\n",
      "        31    -1.00000000E+00  # GUT scale\r\n",
      "        33     1.00000000E+03  # SUSY scale\r\n",
      "        34     1.00000000E-04  # Precision\r\n",
      "        35     4.00000000E+01  # Iterations\r\n",
      "        38     2.00000000E+00  # RGE level\r\n",
      "        40     7.29735257E-03  # Alpha\r\n",
      "        41     2.49520000E+00  # Gamma_Z\r\n",
      "        42     2.06000000E+00  # Gamma_W\r\n",
      "        50     1.00000000E+00  # Rotate negative fermion masses\r\n",
      "        51     0.00000000E+00  # Switch to SCKM matrix\r\n",
      "        52     0.00000000E+00  # Ignore negative masses\r\n",
      "        53     0.00000000E+00  # Ignore negative masses at MZ\r\n",
      "        55     1.00000000E+00  # Calculate one loop masses\r\n",
      "        56     1.00000000E+00  # Calculate two-loop Higgs masses\r\n",
      "        57     1.00000000E+00  # Calculate low energy\r\n",
      "        60     1.00000000E+00  # Include kinetic mixing\r\n",
      "        65     1.00000000E+00  # Solution of tadpole equation\r\n",
      "Block SPhenoLowEnergy # low energy observables \r\n",
      "      20    0.00000000E+00  # (g-2)_e\r\n",
      "      21    0.00000000E+00  # (g-2)_mu\r\n",
      "      22    0.00000000E+00  # (g-2)_tau\r\n",
      "      23    0.00000000E+00  # EDM(e)\r\n",
      "      24    0.00000000E+00  # EDM(mu)\r\n",
      "      25    0.00000000E+00  # EDM(tau)\r\n",
      "      39   -9.02446220E-05  # delta(rho)\r\n",
      "Block FlavorKitQFV # quark flavor violating observables \r\n",
      "     200    3.15000000E-04  # BR(B->X_s gamma)\r\n",
      "     201    1.00000000E+00  # BR(B->X_s gamma)/BR(B->X_s gamma)_SM\r\n",
      "     300    6.58439320E-04  # BR(D->mu nu)\r\n",
      "     301    9.98906539E-01  # BR(D->mu nu)/BR(D->mu nu)_SM\r\n",
      "     400    6.23133563E-03  # BR(Ds->mu nu)\r\n",
      "     401    9.98787401E-01  # BR(Ds->mu nu)/BR(Ds->mu nu)_SM\r\n",
      "     402    6.08993063E-02  # BR(Ds->tau nu)\r\n",
      "     403    9.98787311E-01  # BR(Ds->tau nu)/BR(Ds->tau nu)_SM\r\n",
      "     500    5.72050139E-07  # BR(B->mu nu)\r\n",
      "     501    9.91294799E-01  # BR(B->mu nu)/BR(B->mu nu)_SM\r\n",
      "     502    1.27288540E-04  # BR(B->tau nu)\r\n",
      "     503    9.91294158E-01  # BR(B->tau nu)/BR(B->tau nu)_SM\r\n",
      "     600    7.07122760E-01  # BR(K->mu nu)\r\n",
      "     601    9.99923710E-01  # BR(K->mu nu)/BR(K->mu nu)_SM\r\n",
      "     602    2.47647734E-05  # R_K = BR(K->e nu)/(K->mu nu)\r\n",
      "     603    2.47609949E-05  # R_K^SM = BR(K->e nu)_SM/(K->mu nu)_SM\r\n",
      "    1900    1.78618500E+01  # Delta(M_Bs)\r\n",
      "    1901    1.00075704E+00  # Delta(M_Bs)/Delta(M_Bs)_SM\r\n",
      "    1902    3.99295254E-01  # Delta(M_Bd)\r\n",
      "    1903    1.00090138E+00  # Delta(M_Bd)/Delta(M_Bd)_SM\r\n",
      "    4000    2.48061082E-15  # BR(B^0_d->e e)\r\n",
      "    4001    1.00000217E+00  # BR(B^0_d->e e)/BR(B^0_d->e e)_SM\r\n",
      "    4002    7.70269737E-14  # BR(B^0_s->e e)\r\n",
      "    4003    1.00000214E+00  # BR(B^0_s->e e)/BR(B^0_s->e e)_SM\r\n",
      "    4004    1.05968904E-10  # BR(B^0_d->mu mu)\r\n",
      "    4005    1.00000217E+00  # BR(B^0_d->mu mu)/BR(B^0_d->mu mu)_SM\r\n",
      "    4006    3.29059074E-09  # BR(B^0_s->mu mu)\r\n",
      "    4007    1.00000214E+00  # BR(B^0_s->mu mu)/BR(B^0_s->mu mu)_SM\r\n",
      "    4008    2.21805373E-08  # BR(B^0_d->tau tau)\r\n",
      "    4009    1.00000119E+00  # BR(B^0_d->tau tau)/BR(B^0_d->tau tau)_SM\r\n",
      "    4010    6.97871838E-07  # BR(B^0_s->tau tau)\r\n",
      "    4011    1.00000120E+00  # BR(B^0_s->tau tau)/BR(B^0_s->tau tau)_SM\r\n",
      "    5000    1.64140935E-06  # BR(B-> s e e)\r\n",
      "    5001    9.91614369E-01  # BR(B-> s e e)/BR(B-> s e e)_SM\r\n",
      "    5002    1.59101138E-06  # BR(B-> s mu mu)\r\n",
      "    5003    9.91414065E-01  # BR(B-> s mu mu)/BR(B-> s mu mu)_SM\r\n",
      "    6000    1.10915338E-07  # BR(B -> K mu mu)\r\n",
      "    6001    9.99237275E-01  # BR(B -> K mu mu)/BR(B -> K mu mu)_SM\r\n",
      "    7000    4.09858475E-05  # BR(B->s nu nu)\r\n",
      "    7001    1.00000000E+00  # BR(B->s nu nu)/BR(B->s nu nu)_SM\r\n",
      "    7002    1.89775644E-06  # BR(B->D nu nu)\r\n",
      "    7003    1.00000000E+00  # BR(B->D nu nu)/BR(B->D nu nu)_SM\r\n",
      "    8000    1.29975611E-10  # BR(K^+ -> pi^+ nu nu)\r\n",
      "    8001    1.00000000E+00  # BR(K^+ -> pi^+ nu nu)/BR(K^+ -> pi^+ nu nu)_SM\r\n",
      "    8002    3.02793010E-11  # BR(K_L -> pi^0 nu nu)\r\n",
      "    8003    1.00000000E+00  # BR(K_L -> pi^0 nu nu)/BR(K_L -> pi^0 nu nu)_SM\r\n",
      "    9100    2.12126950E-15  # Delta(M_K)\r\n",
      "    9102    1.00000027E+00  # Delta(M_K)/Delta(M_K)_SM\r\n",
      "    9103    3.29704990E-03  # epsilon_K\r\n",
      "    9104    1.00000383E+00  # epsilon_K/epsilon_K^SM\r\n",
      "Block FlavorKitLFV # lepton flavor violating observables \r\n",
      "     701    0.00000000E+00  # BR(mu->e gamma)\r\n",
      "     702    0.00000000E+00  # BR(tau->e gamma)\r\n",
      "     703    0.00000000E+00  # BR(tau->mu gamma)\r\n",
      "     800    0.00000000E+00  # CR(mu-e, Al)\r\n",
      "     801    0.00000000E+00  # CR(mu-e, Ti)\r\n",
      "     802    0.00000000E+00  # CR(mu-e, Sr)\r\n",
      "     803    0.00000000E+00  # CR(mu-e, Sb)\r\n",
      "     804    0.00000000E+00  # CR(mu-e, Au)\r\n",
      "     805    0.00000000E+00  # CR(mu-e, Pb)\r\n",
      "     901    0.00000000E+00  # BR(mu->3e)\r\n",
      "     902    0.00000000E+00  # BR(tau->3e)\r\n",
      "     903    0.00000000E+00  # BR(tau->3mu)\r\n",
      "     904    0.00000000E+00  # BR(tau- -> e- mu+ mu-)\r\n",
      "     905    0.00000000E+00  # BR(tau- -> mu- e+ e-)\r\n",
      "     906    0.00000000E+00  # BR(tau- -> e+ mu- mu-)\r\n",
      "     907    0.00000000E+00  # BR(tau- -> mu+ e- e-)\r\n",
      "    1001    0.00000000E+00  # BR(Z->e mu)\r\n",
      "    1002    0.00000000E+00  # BR(Z->e tau)\r\n",
      "    1003    0.00000000E+00  # BR(Z->mu tau)\r\n",
      "    1101    0.00000000E+00  # BR(h->e mu)\r\n",
      "    1102    0.00000000E+00  # BR(h->e tau)\r\n",
      "    1103    0.00000000E+00  # BR(h->mu tau)\r\n",
      "    2001    0.00000000E+00  # BR(tau->e pi)\r\n",
      "    2002    0.00000000E+00  # BR(tau->e eta)\r\n",
      "    2003    0.00000000E+00  # BR(tau->e eta')\r\n",
      "    2004    0.00000000E+00  # BR(tau->mu pi)\r\n",
      "    2005    0.00000000E+00  # BR(tau->mu eta)\r\n",
      "    2006    0.00000000E+00  # BR(tau->mu eta')\r\n",
      "DECAY         4     4.00058547E-13   # Fu_2\r\n",
      "#    BR                NDA      ID1      ID2\r\n",
      "#    BR                NDA      ID1      ID2       ID3\r\n",
      "     3.05502575E-02    3            2         -1          1   # BR(Fu_2 -> Fu_1 Fd_1^* Fd_1 )\r\n",
      "     5.45954987E-01    3            2         -1          3   # BR(Fu_2 -> Fu_1 Fd_1^* Fd_2 )\r\n",
      "     1.56486313E-03    3            2         -3          1   # BR(Fu_2 -> Fu_1 Fd_2^* Fd_1 )\r\n",
      "     2.79270154E-02    3            2         -3          3   # BR(Fu_2 -> Fu_1 Fd_2^* Fd_2 )\r\n",
      "     1.07295183E-02    3            1        -11         12   # BR(Fu_2 -> Fd_1 Fe_1^* Fv_1 )\r\n",
      "     1.01645236E-02    3            1        -13         14   # BR(Fu_2 -> Fd_1 Fe_2^* Fv_2 )\r\n",
      "     1.91744771E-01    3            3        -11         12   # BR(Fu_2 -> Fd_2 Fe_1^* Fv_1 )\r\n",
      "     1.81364064E-01    3            3        -13         14   # BR(Fu_2 -> Fd_2 Fe_2^* Fv_2 )\r\n",
      "DECAY         6     1.59604378E+00   # Fu_3\r\n",
      "#    BR                NDA      ID1      ID2\r\n",
      "     1.67597777E-03    2            3         24   # BR(Fu_3 -> Fd_2 VWp )\r\n",
      "     9.98288583E-01    2            5         24   # BR(Fu_3 -> Fd_3 VWp )\r\n",
      "DECAY        13     1.27670537E-18   # Fe_2\r\n",
      "#    BR                NDA      ID1      ID2\r\n",
      "#    BR                NDA      ID1      ID2       ID3\r\n",
      "     2.63969808E-01    3           11        -12         14   # BR(Fe_2 -> Fe_1 Fv_1^* Fv_2 )\r\n",
      "     7.36026661E-01    3           14         -2          1   # BR(Fe_2 -> Fv_2 Fu_1^* Fd_1 )\r\n",
      "DECAY        15     2.27012743E-12   # Fe_3\r\n",
      "#    BR                NDA      ID1      ID2\r\n",
      "#    BR                NDA      ID1      ID2       ID3\r\n",
      "     1.99664865E-01    3           11        -12         16   # BR(Fe_3 -> Fe_1 Fv_1^* Fv_3 )\r\n",
      "     1.94368619E-01    3           13        -14         16   # BR(Fe_3 -> Fe_2 Fv_2^* Fv_3 )\r\n",
      "     5.68537963E-01    3           16         -2          1   # BR(Fe_3 -> Fv_3 Fu_1^* Fd_1 )\r\n",
      "     2.97768355E-02    3           16         -2          3   # BR(Fe_3 -> Fv_3 Fu_1^* Fd_2 )\r\n",
      "     4.57258365E-04    3           16         -4          1   # BR(Fe_3 -> Fv_3 Fu_2^* Fd_1 )\r\n",
      "     7.19445852E-03    3           16         -4          3   # BR(Fe_3 -> Fv_3 Fu_2^* Fd_2 )\r\n",
      "DECAY         1     9.89732412E-27   # Fd_1\r\n",
      "#    BR                NDA      ID1      ID2\r\n",
      "#    BR                NDA      ID1      ID2       ID3\r\n",
      "     1.00000000E+00    3            2        -12         11   # BR(Fd_1 -> Fu_1 Fv_1^* Fe_1 )\r\n",
      "DECAY         3     3.77354481E-20   # Fd_2\r\n",
      "#    BR                NDA      ID1      ID2\r\n",
      "#    BR                NDA      ID1      ID2       ID3\r\n",
      "     7.34967004E-01    3            1         -2          2   # BR(Fd_2 -> Fd_1 Fu_1^* Fu_1 )\r\n",
      "     2.65032996E-01    3            2        -12         11   # BR(Fd_2 -> Fu_1 Fv_1^* Fe_1 )\r\n",
      "DECAY         5     1.78288555E-13   # Fd_3\r\n",
      "#    BR                NDA      ID1      ID2\r\n",
      "#    BR                NDA      ID1      ID2       ID3\r\n",
      "     6.12951287E-03    3            1         -2          2   # BR(Fd_3 -> Fd_1 Fu_1^* Fu_1 )\r\n",
      "     4.52963796E-01    3            1         -2          4   # BR(Fd_3 -> Fd_1 Fu_1^* Fu_2 )\r\n",
      "     1.67717286E-04    3            1         -4          2   # BR(Fd_3 -> Fd_1 Fu_2^* Fu_1 )\r\n",
      "     8.80823256E-03    3            1         -4          4   # BR(Fd_3 -> Fd_1 Fu_2^* Fu_2 )\r\n",
      "     3.27013500E-04    3            3         -2          2   # BR(Fd_3 -> Fd_2 Fu_1^* Fu_1 )\r\n",
      "     2.41186489E-02    3            3         -2          4   # BR(Fd_3 -> Fd_2 Fu_1^* Fu_2 )\r\n",
      "     3.11230926E-03    3            3         -4          2   # BR(Fd_3 -> Fd_2 Fu_2^* Fu_1 )\r\n",
      "     1.62627665E-01    3            3         -4          4   # BR(Fd_3 -> Fd_2 Fu_2^* Fu_2 )\r\n",
      "     2.15252618E-03    3            2        -12         11   # BR(Fd_3 -> Fu_1 Fv_1^* Fe_1 )\r\n",
      "     2.14490780E-03    3            2        -14         13   # BR(Fd_3 -> Fu_1 Fv_2^* Fe_2 )\r\n",
      "     5.83957751E-04    3            2        -16         15   # BR(Fd_3 -> Fu_1 Fv_3^* Fe_3 )\r\n",
      "     1.59069889E-01    3            4        -12         11   # BR(Fd_3 -> Fu_2 Fv_1^* Fe_1 )\r\n",
      "     1.58104211E-01    3            4        -14         13   # BR(Fd_3 -> Fu_2 Fv_2^* Fe_2 )\r\n",
      "     1.96896118E-02    3            4        -16         15   # BR(Fd_3 -> Fu_2 Fv_3^* Fe_3 )\r\n",
      "DECAY        25     6.44466812E-03   # hh\r\n",
      "#    BR                NDA      ID1      ID2\r\n",
      "     2.05689938E-03    2           22         22   # BR(hh -> VP VP )\r\n",
      "     7.27531714E-02    2           21         21   # BR(hh -> VG VG )\r\n",
      "     4.83788882E-02    2           23         23   # BR(hh -> VZ VZ )\r\n",
      "     3.77198350E-01    2          -24         24   # BR(hh -> VWp^* VWp_virt )\r\n",
      "     1.03971500E-04    2           -3          3   # BR(hh -> Fd_2^* Fd_2 )\r\n",
      "     2.78396697E-01    2           -5          5   # BR(hh -> Fd_3^* Fd_3 )\r\n",
      "     1.51058646E-04    2          -13         13   # BR(hh -> Fe_2^* Fe_2 )\r\n",
      "     4.36104438E-02    2          -15         15   # BR(hh -> Fe_3^* Fe_3 )\r\n",
      "     1.29299657E-02    2           -4          4   # BR(hh -> Fu_2^* Fu_2 )\r\n",
      "#    BR                NDA      ID1      ID2       ID3\r\n",
      "     2.91998709E-03    3            0          1         -1   # BR(hh -> Ah Fd_1 Fd_1^* )\r\n",
      "     2.91993515E-03    3            0          3         -3   # BR(hh -> Ah Fd_2 Fd_2^* )\r\n",
      "     2.81894585E-03    3            0          5         -5   # BR(hh -> Ah Fd_3 Fd_3^* )\r\n",
      "     6.59705196E-04    3            0         11        -11   # BR(hh -> Ah Fe_1 Fe_1^* )\r\n",
      "     6.59721327E-04    3            0         13        -13   # BR(hh -> Ah Fe_2 Fe_2^* )\r\n",
      "     6.63990330E-04    3            0         15        -15   # BR(hh -> Ah Fe_3 Fe_3^* )\r\n",
      "     2.27358044E-03    3            0          2         -2   # BR(hh -> Ah Fu_1 Fu_1^* )\r\n",
      "     2.27049808E-03    3            0          4         -4   # BR(hh -> Ah Fu_2 Fu_2^* )\r\n",
      "     1.30611198E-03    3            0         12        -12   # BR(hh -> Ah Fv_1 Fv_1^* )\r\n",
      "     1.30611198E-03    3            0         14        -14   # BR(hh -> Ah Fv_2 Fv_2^* )\r\n",
      "     1.30611198E-03    3            0         16        -16   # BR(hh -> Ah Fv_3 Fv_3^* )\r\n",
      "     2.30068861E-02    3            0          1         -2   # BR(hh -> Hp Fd_1 Fu_1^* )\r\n",
      "     2.30068861E-02    3            0         -1          2   # BR(hh -> Hp^* Fd_1^* Fu_1 )\r\n",
      "     1.22858151E-03    3            0          1         -4   # BR(hh -> Hp Fd_1 Fu_2^* )\r\n",
      "     1.22858151E-03    3            0         -1          4   # BR(hh -> Hp^* Fd_1^* Fu_2 )\r\n",
      "     1.23084653E-03    3            0          3         -2   # BR(hh -> Hp Fd_2 Fu_1^* )\r\n",
      "     1.23084653E-03    3            0         -3          2   # BR(hh -> Hp^* Fd_2^* Fu_1 )\r\n",
      "     2.29322997E-02    3            0          3         -4   # BR(hh -> Hp Fd_2 Fu_2^* )\r\n",
      "     2.29322997E-02    3            0         -3          4   # BR(hh -> Hp^* Fd_2^* Fu_2 )\r\n",
      "     8.07934247E-03    3            0         11        -12   # BR(hh -> Hp Fe_1 Fv_1^* )\r\n",
      "     8.07934247E-03    3            0        -11         12   # BR(hh -> Hp^* Fe_1^* Fv_1 )\r\n",
      "     8.07927436E-03    3            0         13        -14   # BR(hh -> Hp Fe_2 Fv_2^* )\r\n",
      "     8.07927436E-03    3            0        -13         14   # BR(hh -> Hp^* Fe_2^* Fv_2 )\r\n",
      "     8.06000681E-03    3            0         15        -16   # BR(hh -> Hp Fe_3 Fv_3^* )\r\n",
      "     8.06000681E-03    3            0        -15         16   # BR(hh -> Hp^* Fe_3^* Fv_3 )\r\n",
      "DECAY        23     2.58151209E+00   # VZ\r\n",
      "#    BR                NDA      ID1      ID2\r\n",
      "     1.52272086E-01    2           -1          1   # BR(VZ -> Fd_1^* Fd_1 )\r\n",
      "     1.52271422E-01    2           -3          3   # BR(VZ -> Fd_2^* Fd_2 )\r\n",
      "     1.50985417E-01    2           -5          5   # BR(VZ -> Fd_3^* Fd_3 )\r\n",
      "     3.44024406E-02    2          -11         11   # BR(VZ -> Fe_1^* Fe_1 )\r\n",
      "     3.44021662E-02    2          -13         13   # BR(VZ -> Fe_2^* Fe_2 )\r\n",
      "     3.43249018E-02    2          -15         15   # BR(VZ -> Fe_3^* Fe_3 )\r\n",
      "     1.18563135E-01    2           -2          2   # BR(VZ -> Fu_1^* Fu_1 )\r\n",
      "     1.18444253E-01    2           -4          4   # BR(VZ -> Fu_2^* Fu_2 )\r\n",
      "     6.81113928E-02    2          -12         12   # BR(VZ -> Fv_1^* Fv_1 )\r\n",
      "     6.81113928E-02    2          -14         14   # BR(VZ -> Fv_2^* Fv_2 )\r\n",
      "     6.81113928E-02    2          -16         16   # BR(VZ -> Fv_3^* Fv_3 )\r\n",
      "DECAY        24     2.16145949E+00   # VWp\r\n",
      "#    BR                NDA      ID1      ID2\r\n",
      "     3.16468443E-01    2           -1          2   # BR(VWp -> Fd_1^* Fu_1 )\r\n",
      "     1.69166709E-02    2           -1          4   # BR(VWp -> Fd_1^* Fu_2 )\r\n",
      "     1.69308572E-02    2           -3          2   # BR(VWp -> Fd_2^* Fu_1 )\r\n",
      "     3.15795683E-01    2           -3          4   # BR(VWp -> Fd_2^* Fu_2 )\r\n",
      "     5.62997720E-04    2           -5          4   # BR(VWp -> Fd_3^* Fu_2 )\r\n",
      "     1.11134416E-01    2          -11         12   # BR(VWp -> Fe_1^* Fv_1 )\r\n",
      "     1.11134128E-01    2          -13         14   # BR(VWp -> Fe_2^* Fv_2 )\r\n",
      "     1.11052909E-01    2          -15         16   # BR(VWp -> Fe_3^* Fv_3 )\r\n"
     ]
    }
   ],
   "source": [
    "cat SPheno.spc.SM"
   ]
  }
 ],
 "metadata": {
  "kernelspec": {
   "display_name": "Bash",
   "language": "bash",
   "name": "bash"
  },
  "language_info": {
   "codemirror_mode": "shell",
   "file_extension": ".sh",
   "mimetype": "text/x-sh",
   "name": "bash"
  }
 },
 "nbformat": 4,
 "nbformat_minor": 0
}
